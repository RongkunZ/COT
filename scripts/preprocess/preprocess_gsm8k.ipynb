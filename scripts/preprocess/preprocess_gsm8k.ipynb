{
 "cells": [
  {
   "cell_type": "code",
   "execution_count": 3,
   "id": "e4f8764a",
   "metadata": {},
   "outputs": [
    {
     "name": "stdout",
     "output_type": "stream",
     "text": [
      "\n",
      "Processing split: train\n"
     ]
    },
    {
     "name": "stderr",
     "output_type": "stream",
     "text": [
      "train: 100%|██████████| 7473/7473 [00:00<00:00, 56701.21it/s]\n"
     ]
    },
    {
     "name": "stdout",
     "output_type": "stream",
     "text": [
      "  Original: 7473, Processed: 26720, Avg steps: 3.58\n",
      "\n",
      "Processing split: test\n"
     ]
    },
    {
     "name": "stderr",
     "output_type": "stream",
     "text": [
      "test: 100%|██████████| 1319/1319 [00:00<00:00, 61658.94it/s]\n"
     ]
    },
    {
     "name": "stdout",
     "output_type": "stream",
     "text": [
      "  Original: 1319, Processed: 4819, Avg steps: 3.65\n"
     ]
    },
    {
     "name": "stderr",
     "output_type": "stream",
     "text": [
      "Saving the dataset (1/1 shards): 100%|██████████| 26720/26720 [00:00<00:00, 1997145.25 examples/s]\n",
      "Saving the dataset (1/1 shards): 100%|██████████| 4819/4819 [00:00<00:00, 1201471.26 examples/s]\n"
     ]
    },
    {
     "name": "stdout",
     "output_type": "stream",
     "text": [
      "\n",
      "✅ Saved full dataset to: gsm8k_stepwise\n",
      "✅ Saved train as standard JSON to: gsm8k_json/gsm8k_train.json\n",
      "✅ Saved test as standard JSON to: gsm8k_json/gsm8k_test.json\n"
     ]
    }
   ],
   "source": [
    "from datasets import load_dataset, Dataset, DatasetDict\n",
    "import re\n",
    "from tqdm import tqdm\n",
    "import os\n",
    "import json  # ✅ 添加：用于标准 JSON 保存\n",
    "\n",
    "# ---------------------------\n",
    "# 1. Split answer field into steps\n",
    "# ---------------------------\n",
    "def split_answer(answer):\n",
    "    lines = [l.strip() for l in answer.split('\\n') if l.strip()]\n",
    "    steps = [l for l in lines if not l.startswith(\"####\")]\n",
    "    final = [l.replace(\"####\", \"\").strip() for l in lines if l.startswith(\"####\")]\n",
    "    if final:\n",
    "        steps.append(final[0])  # Append final answer as last step\n",
    "    return steps\n",
    "\n",
    "# ---------------------------\n",
    "# 2. Convert one example into stepwise prediction pairs\n",
    "# ---------------------------\n",
    "def expand_gsm_example(example):\n",
    "    steps = split_answer(example[\"answer\"])\n",
    "    if len(steps) < 2:\n",
    "        return []\n",
    "\n",
    "    outputs = []\n",
    "    correct = steps[-1]  # last step is final answer\n",
    "\n",
    "    for i in range(1, len(steps)):\n",
    "        prev_steps = \"\\n\".join([f\"Step {j+1}: {steps[j]}\" for j in range(i)])\n",
    "        input_text = f\"\"\"Question: {example['question']}\n",
    "\n",
    "Previous Steps:\n",
    "{prev_steps}\n",
    "\n",
    "Next Step:\"\"\"\n",
    "        outputs.append({\n",
    "            \"input\": input_text,\n",
    "            \"target\": steps[i],\n",
    "            \"question\": example[\"question\"],\n",
    "            \"correct_answer\": correct,\n",
    "            \"step_number\": i + 1,\n",
    "            \"total_steps\": len(steps)\n",
    "        })\n",
    "    return outputs\n",
    "\n",
    "# ---------------------------\n",
    "# 3. Process all splits\n",
    "# ---------------------------\n",
    "def process_gsm8k(save_path=\"gsm8k_stepwise\"):\n",
    "    dataset = load_dataset(\"openai/gsm8k\", \"main\")\n",
    "    processed_splits = {}\n",
    "\n",
    "    for split in dataset.keys():\n",
    "        print(f\"\\nProcessing split: {split}\")\n",
    "        examples = dataset[split]\n",
    "        all_pairs = []\n",
    "\n",
    "        for ex in tqdm(examples, desc=f\"{split}\"):\n",
    "            all_pairs.extend(expand_gsm_example(ex))\n",
    "\n",
    "        processed_splits[split] = Dataset.from_list(all_pairs)\n",
    "        print(f\"  Original: {len(examples)}, Processed: {len(all_pairs)}, Avg steps: {len(all_pairs)/len(examples):.2f}\")\n",
    "\n",
    "    processed_dataset = DatasetDict(processed_splits)\n",
    "\n",
    "    # ✅ 保存为 HuggingFace 原生格式\n",
    "    processed_dataset.save_to_disk(save_path)\n",
    "    print(f\"\\n✅ Saved full dataset to: {save_path}\")\n",
    "\n",
    "    # ✅ 保存为标准 JSON（数组格式）\n",
    "    os.makedirs(\"gsm8k_json\", exist_ok=True)\n",
    "    for split in processed_dataset:\n",
    "        out_path = f\"gsm8k_json/gsm8k_{split}.json\"\n",
    "        with open(out_path, \"w\") as f:\n",
    "            json.dump(processed_dataset[split].to_list(), f, indent=4, ensure_ascii=False)\n",
    "        print(f\"✅ Saved {split} as standard JSON to: {out_path}\")\n",
    "\n",
    "    return processed_dataset\n",
    "\n",
    "# ---------------------------\n",
    "# Run it\n",
    "# ---------------------------\n",
    "if __name__ == \"__main__\":\n",
    "    process_gsm8k()\n"
   ]
  }
 ],
 "metadata": {
  "kernelspec": {
   "display_name": "conda312",
   "language": "python",
   "name": "python3"
  },
  "language_info": {
   "codemirror_mode": {
    "name": "ipython",
    "version": 3
   },
   "file_extension": ".py",
   "mimetype": "text/x-python",
   "name": "python",
   "nbconvert_exporter": "python",
   "pygments_lexer": "ipython3",
   "version": "3.12.7"
  }
 },
 "nbformat": 4,
 "nbformat_minor": 5
}
